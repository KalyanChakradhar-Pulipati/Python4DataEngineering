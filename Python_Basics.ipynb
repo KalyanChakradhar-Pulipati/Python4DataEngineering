{
  "nbformat": 4,
  "nbformat_minor": 0,
  "metadata": {
    "colab": {
      "provenance": [],
      "authorship_tag": "ABX9TyMyetV+rwu9zSs0CBXcLaNT",
      "include_colab_link": true
    },
    "kernelspec": {
      "name": "python3",
      "display_name": "Python 3"
    },
    "language_info": {
      "name": "python"
    }
  },
  "cells": [
    {
      "cell_type": "markdown",
      "metadata": {
        "id": "view-in-github",
        "colab_type": "text"
      },
      "source": [
        "<a href=\"https://colab.research.google.com/github/KalyanChakradhar-Pulipati/Python4DataEngineering/blob/main/Python_Basics.ipynb\" target=\"_parent\"><img src=\"https://colab.research.google.com/assets/colab-badge.svg\" alt=\"Open In Colab\"/></a>"
      ]
    },
    {
      "cell_type": "code",
      "execution_count": 17,
      "metadata": {
        "colab": {
          "base_uri": "https://localhost:8080/"
        },
        "id": "wZgpvPMLSSJf",
        "outputId": "1e88d345-44fe-4f38-a6f7-02dcbf9ecc27"
      },
      "outputs": [
        {
          "output_type": "stream",
          "name": "stdout",
          "text": [
            "Welcome to Data Engineering\n"
          ]
        }
      ],
      "source": [
        "print('Welcome to Data Engineering')"
      ]
    },
    {
      "cell_type": "code",
      "source": [
        "greeting='Hello Data Engineering'\n",
        "print(greeting)"
      ],
      "metadata": {
        "colab": {
          "base_uri": "https://localhost:8080/"
        },
        "id": "7lCWgRdFha_b",
        "outputId": "1d264b55-2dba-45e4-ad09-4c5947786474"
      },
      "execution_count": 18,
      "outputs": [
        {
          "output_type": "stream",
          "name": "stdout",
          "text": [
            "Hello Data Engineering\n"
          ]
        }
      ]
    },
    {
      "cell_type": "markdown",
      "source": [
        "# Variables and Data Types"
      ],
      "metadata": {
        "id": "DYiYJnrXjz3z"
      }
    },
    {
      "cell_type": "code",
      "source": [
        "int_var=7\n",
        "flo_var=4.2\n",
        "str_var='Data Engineering'\n",
        "bool_var=True"
      ],
      "metadata": {
        "id": "66ZNCzzxiYJS"
      },
      "execution_count": 19,
      "outputs": []
    },
    {
      "cell_type": "code",
      "source": [
        "print(int_var)\n",
        "print(flo_var)\n",
        "print(str_var)\n",
        "print(bool_var)"
      ],
      "metadata": {
        "colab": {
          "base_uri": "https://localhost:8080/"
        },
        "id": "FjdOoCdUite9",
        "outputId": "0573ff6c-b124-4800-f120-8e54b07d053f"
      },
      "execution_count": 20,
      "outputs": [
        {
          "output_type": "stream",
          "name": "stdout",
          "text": [
            "7\n",
            "4.2\n",
            "Data Engineering\n",
            "True\n"
          ]
        }
      ]
    },
    {
      "cell_type": "markdown",
      "source": [
        "# Operations and expressions\n"
      ],
      "metadata": {
        "id": "1Z9Zv0t4kAVd"
      }
    },
    {
      "cell_type": "code",
      "source": [
        "num1=5\n",
        "num2=565\n",
        "sum=num1+num2\n",
        "print(sum)"
      ],
      "metadata": {
        "colab": {
          "base_uri": "https://localhost:8080/"
        },
        "id": "Smteea4bjMRj",
        "outputId": "b2fb42df-09a0-4534-9d0d-0b68e5444cdb"
      },
      "execution_count": 21,
      "outputs": [
        {
          "output_type": "stream",
          "name": "stdout",
          "text": [
            "570\n"
          ]
        }
      ]
    },
    {
      "cell_type": "code",
      "source": [
        "sub=num2-num1\n",
        "print(sub)"
      ],
      "metadata": {
        "colab": {
          "base_uri": "https://localhost:8080/"
        },
        "id": "NYPiqvWPjg5-",
        "outputId": "631ce49c-1a5b-4555-ff59-ab8711c3bbde"
      },
      "execution_count": 22,
      "outputs": [
        {
          "output_type": "stream",
          "name": "stdout",
          "text": [
            "560\n"
          ]
        }
      ]
    },
    {
      "cell_type": "code",
      "source": [
        "mul=num1*num2\n",
        "print(mul)"
      ],
      "metadata": {
        "colab": {
          "base_uri": "https://localhost:8080/"
        },
        "id": "fEOLISFolBG_",
        "outputId": "5c35edec-ab48-46d7-9950-4f617ac71ca1"
      },
      "execution_count": 23,
      "outputs": [
        {
          "output_type": "stream",
          "name": "stdout",
          "text": [
            "2825\n"
          ]
        }
      ]
    },
    {
      "cell_type": "code",
      "source": [
        "\n",
        "div=num2/num1\n",
        "print(div)"
      ],
      "metadata": {
        "colab": {
          "base_uri": "https://localhost:8080/"
        },
        "id": "ImsKm-C_lBES",
        "outputId": "06385386-39de-4ce3-e884-70d323b10276"
      },
      "execution_count": 24,
      "outputs": [
        {
          "output_type": "stream",
          "name": "stdout",
          "text": [
            "113.0\n"
          ]
        }
      ]
    },
    {
      "cell_type": "code",
      "source": [
        "var_equal= num1==num2\n",
        "print(var_equal)"
      ],
      "metadata": {
        "colab": {
          "base_uri": "https://localhost:8080/"
        },
        "id": "e860t4falBBj",
        "outputId": "ab8a6fa3-e8ef-4c22-a95a-b0207a2c90ed"
      },
      "execution_count": 25,
      "outputs": [
        {
          "output_type": "stream",
          "name": "stdout",
          "text": [
            "False\n"
          ]
        }
      ]
    },
    {
      "cell_type": "code",
      "source": [
        "\n",
        "var_not_equal=num1!=num2\n",
        "print(var_not_equal)"
      ],
      "metadata": {
        "colab": {
          "base_uri": "https://localhost:8080/"
        },
        "id": "DDl_gOHalA-5",
        "outputId": "0e948f04-62b0-41d6-d2b3-69975d30d315"
      },
      "execution_count": 26,
      "outputs": [
        {
          "output_type": "stream",
          "name": "stdout",
          "text": [
            "True\n"
          ]
        }
      ]
    },
    {
      "cell_type": "code",
      "source": [
        "\n",
        "gret=num1>num2\n",
        "print(gret)"
      ],
      "metadata": {
        "colab": {
          "base_uri": "https://localhost:8080/"
        },
        "id": "T6sLb95flA1U",
        "outputId": "5523bca5-2dfd-4fb0-8d89-fb8c5b53db82"
      },
      "execution_count": 27,
      "outputs": [
        {
          "output_type": "stream",
          "name": "stdout",
          "text": [
            "False\n"
          ]
        }
      ]
    },
    {
      "cell_type": "code",
      "source": [
        "\n",
        "less=num1<num2\n",
        "print(less)"
      ],
      "metadata": {
        "colab": {
          "base_uri": "https://localhost:8080/"
        },
        "id": "BIuCo3YplAmk",
        "outputId": "2bd9d31a-e065-4b8a-bdc2-8a8657720511"
      },
      "execution_count": 28,
      "outputs": [
        {
          "output_type": "stream",
          "name": "stdout",
          "text": [
            "True\n"
          ]
        }
      ]
    },
    {
      "cell_type": "code",
      "source": [
        "print(True and False)"
      ],
      "metadata": {
        "colab": {
          "base_uri": "https://localhost:8080/"
        },
        "id": "cEpKRCaMkTIw",
        "outputId": "c5ef6fd2-4401-4eea-f596-4006309d7aa9"
      },
      "execution_count": 29,
      "outputs": [
        {
          "output_type": "stream",
          "name": "stdout",
          "text": [
            "False\n"
          ]
        }
      ]
    },
    {
      "cell_type": "code",
      "source": [
        "print(True or False)"
      ],
      "metadata": {
        "colab": {
          "base_uri": "https://localhost:8080/"
        },
        "id": "I7stBBYmliGi",
        "outputId": "1f602212-dc75-4440-db4e-365ddf219591"
      },
      "execution_count": 30,
      "outputs": [
        {
          "output_type": "stream",
          "name": "stdout",
          "text": [
            "True\n"
          ]
        }
      ]
    },
    {
      "cell_type": "markdown",
      "source": [
        "# Control Statement"
      ],
      "metadata": {
        "id": "OwXvO-JPln3x"
      }
    },
    {
      "cell_type": "code",
      "source": [
        "num=7\n",
        "if num > 10:\n",
        "  print('Number is greater than 10')\n",
        "elif num < 10:\n",
        "  print('Number is less than 10')\n",
        "else:\n",
        "  print('Number is equal to 10')"
      ],
      "metadata": {
        "colab": {
          "base_uri": "https://localhost:8080/"
        },
        "id": "eCqI9KONlu8s",
        "outputId": "401d6e71-518c-4b2f-d62b-1f8cee0924c9"
      },
      "execution_count": 34,
      "outputs": [
        {
          "output_type": "stream",
          "name": "stdout",
          "text": [
            "Number is less than 10\n"
          ]
        }
      ]
    },
    {
      "cell_type": "code",
      "source": [
        "for i in range(1,10):\n",
        "  print(i)"
      ],
      "metadata": {
        "colab": {
          "base_uri": "https://localhost:8080/"
        },
        "id": "dTm1E0jCmmhq",
        "outputId": "2fcc5e69-4490-4444-e2e7-f549b9f504b0"
      },
      "execution_count": 35,
      "outputs": [
        {
          "output_type": "stream",
          "name": "stdout",
          "text": [
            "1\n",
            "2\n",
            "3\n",
            "4\n",
            "5\n",
            "6\n",
            "7\n",
            "8\n",
            "9\n"
          ]
        }
      ]
    },
    {
      "cell_type": "code",
      "source": [
        "num=5\n",
        "while num<=10:\n",
        "  print(num)\n",
        "  num=num+1"
      ],
      "metadata": {
        "colab": {
          "base_uri": "https://localhost:8080/"
        },
        "id": "wankBGgbm0J2",
        "outputId": "69aa0612-fe76-4764-f7f6-e479722a77b3"
      },
      "execution_count": 37,
      "outputs": [
        {
          "output_type": "stream",
          "name": "stdout",
          "text": [
            "5\n",
            "6\n",
            "7\n",
            "8\n",
            "9\n",
            "10\n"
          ]
        }
      ]
    }
  ]
}