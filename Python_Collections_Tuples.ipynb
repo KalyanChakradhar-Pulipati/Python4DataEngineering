{
  "nbformat": 4,
  "nbformat_minor": 0,
  "metadata": {
    "colab": {
      "provenance": [],
      "include_colab_link": true
    },
    "kernelspec": {
      "name": "python3",
      "display_name": "Python 3"
    },
    "language_info": {
      "name": "python"
    }
  },
  "cells": [
    {
      "cell_type": "markdown",
      "metadata": {
        "id": "view-in-github",
        "colab_type": "text"
      },
      "source": [
        "<a href=\"https://colab.research.google.com/github/KalyanChakradhar-Pulipati/Python4DataEngineering/blob/main/Python_Collections_Tuples.ipynb\" target=\"_parent\"><img src=\"https://colab.research.google.com/assets/colab-badge.svg\" alt=\"Open In Colab\"/></a>"
      ]
    },
    {
      "cell_type": "code",
      "execution_count": 12,
      "metadata": {
        "colab": {
          "base_uri": "https://localhost:8080/"
        },
        "id": "_dE3pQMg4Yit",
        "outputId": "856c7a51-f58d-4de0-b905-949fe0bdce8e"
      },
      "outputs": [
        {
          "output_type": "stream",
          "name": "stdout",
          "text": [
            "(1, 'Kalyan', 'Hyderabad', 99200193)\n"
          ]
        }
      ],
      "source": [
        "employee = (1, 'Kalyan', 'Hyderabad', 99200193)\n",
        "print(employee)"
      ]
    },
    {
      "cell_type": "code",
      "source": [
        "print(employee[1])"
      ],
      "metadata": {
        "colab": {
          "base_uri": "https://localhost:8080/"
        },
        "id": "v32GYvnM4sAU",
        "outputId": "b4b149d8-3381-49f0-b877-c8431fb26537"
      },
      "execution_count": 9,
      "outputs": [
        {
          "output_type": "stream",
          "name": "stdout",
          "text": [
            "Kalyan\n"
          ]
        }
      ]
    },
    {
      "cell_type": "code",
      "source": [
        "print(len(employee))"
      ],
      "metadata": {
        "colab": {
          "base_uri": "https://localhost:8080/"
        },
        "id": "8StFTNU05F8A",
        "outputId": "3e791207-498a-46c4-fecc-9ee2d804b3fb"
      },
      "execution_count": 10,
      "outputs": [
        {
          "output_type": "stream",
          "name": "stdout",
          "text": [
            "4\n"
          ]
        }
      ]
    },
    {
      "cell_type": "code",
      "source": [
        "print(employee[-1])"
      ],
      "metadata": {
        "colab": {
          "base_uri": "https://localhost:8080/"
        },
        "id": "53u_8w3K5Ohz",
        "outputId": "46a7648a-2b97-4c58-8604-58e7d80bff5a"
      },
      "execution_count": 4,
      "outputs": [
        {
          "output_type": "stream",
          "name": "stdout",
          "text": [
            "98323333\n"
          ]
        }
      ]
    },
    {
      "cell_type": "code",
      "source": [
        "employee = (1, 'Kalyan', 'Hyderabad', 99200193)\n",
        "new_emp = list(employee)\n",
        "new_emp[1] = 'Kalyan Chakradhar'\n",
        "employee =tuple(new_emp)\n",
        "print(employee)\n"
      ],
      "metadata": {
        "colab": {
          "base_uri": "https://localhost:8080/"
        },
        "id": "Z4VFGfpr5Tbt",
        "outputId": "ff20512d-2c3c-4c07-cd00-8765062e8a7a"
      },
      "execution_count": 14,
      "outputs": [
        {
          "output_type": "stream",
          "name": "stdout",
          "text": [
            "(1, 'Kalyan Chakradhar', 'Hyderabad', 99200193)\n"
          ]
        }
      ]
    },
    {
      "cell_type": "code",
      "source": [
        "for x in employee:\n",
        "  print(x)"
      ],
      "metadata": {
        "colab": {
          "base_uri": "https://localhost:8080/"
        },
        "id": "in5I57DI5rLV",
        "outputId": "2ff8d833-156b-4997-eb1b-4a3d22db8aae"
      },
      "execution_count": 15,
      "outputs": [
        {
          "output_type": "stream",
          "name": "stdout",
          "text": [
            "1\n",
            "Kalyan Chakradhar\n",
            "Hyderabad\n",
            "99200193\n"
          ]
        }
      ]
    },
    {
      "cell_type": "code",
      "source": [
        "print(employee.index('Hyderabad'))"
      ],
      "metadata": {
        "colab": {
          "base_uri": "https://localhost:8080/"
        },
        "id": "1nHyj80F50dN",
        "outputId": "c8e5db8a-8926-4780-d4c9-11791e91f065"
      },
      "execution_count": 17,
      "outputs": [
        {
          "output_type": "stream",
          "name": "stdout",
          "text": [
            "2\n"
          ]
        }
      ]
    }
  ]
}