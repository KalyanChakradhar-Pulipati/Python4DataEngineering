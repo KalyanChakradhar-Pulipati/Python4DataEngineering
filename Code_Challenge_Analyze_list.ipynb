{
  "nbformat": 4,
  "nbformat_minor": 0,
  "metadata": {
    "colab": {
      "provenance": [],
      "authorship_tag": "ABX9TyNk0XxjdYMWthWs+qhxXfoF",
      "include_colab_link": true
    },
    "kernelspec": {
      "name": "python3",
      "display_name": "Python 3"
    },
    "language_info": {
      "name": "python"
    }
  },
  "cells": [
    {
      "cell_type": "markdown",
      "metadata": {
        "id": "view-in-github",
        "colab_type": "text"
      },
      "source": [
        "<a href=\"https://colab.research.google.com/github/KalyanChakradhar-Pulipati/Python4DataEngineering/blob/main/Code_Challenge_Analyze_list.ipynb\" target=\"_parent\"><img src=\"https://colab.research.google.com/assets/colab-badge.svg\" alt=\"Open In Colab\"/></a>"
      ]
    },
    {
      "cell_type": "code",
      "execution_count": 1,
      "metadata": {
        "id": "XLs91BCQR4iA"
      },
      "outputs": [],
      "source": [
        "def find_smallest(numbers):\n",
        "    # Your code goes here.\n",
        "    small=numbers[0]\n",
        "    for i in numbers:\n",
        "        if small>= i:\n",
        "            small=i\n",
        "    return small"
      ]
    },
    {
      "cell_type": "code",
      "source": [
        "numbers = [7, 17, 1, 19, 5]\n",
        "print('max',max(numbers))\n",
        "print('sum',sum(numbers))\n",
        "print('avg',sum(numbers)/len(numbers))\n",
        "result = find_smallest(numbers)\n",
        "print('min',result)"
      ],
      "metadata": {
        "colab": {
          "base_uri": "https://localhost:8080/"
        },
        "id": "836NR4frSAPe",
        "outputId": "16b6dbc5-ec60-4509-b17b-58e5464911bc"
      },
      "execution_count": 11,
      "outputs": [
        {
          "output_type": "stream",
          "name": "stdout",
          "text": [
            "max 19\n",
            "sum 49\n",
            "avg 9.8\n",
            "min 1\n"
          ]
        }
      ]
    }
  ]
}