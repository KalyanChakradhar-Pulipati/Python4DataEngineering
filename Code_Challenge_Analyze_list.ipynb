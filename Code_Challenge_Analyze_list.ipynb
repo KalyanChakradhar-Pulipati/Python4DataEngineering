{
  "nbformat": 4,
  "nbformat_minor": 0,
  "metadata": {
    "colab": {
      "provenance": [],
      "authorship_tag": "ABX9TyPBaLnRD8Z2ocPiI50HsOjG",
      "include_colab_link": true
    },
    "kernelspec": {
      "name": "python3",
      "display_name": "Python 3"
    },
    "language_info": {
      "name": "python"
    }
  },
  "cells": [
    {
      "cell_type": "markdown",
      "metadata": {
        "id": "view-in-github",
        "colab_type": "text"
      },
      "source": [
        "<a href=\"https://colab.research.google.com/github/KalyanChakradhar-Pulipati/Python4DataEngineering/blob/main/Code_Challenge_Analyze_list.ipynb\" target=\"_parent\"><img src=\"https://colab.research.google.com/assets/colab-badge.svg\" alt=\"Open In Colab\"/></a>"
      ]
    },
    {
      "cell_type": "code",
      "execution_count": 1,
      "metadata": {
        "id": "XLs91BCQR4iA"
      },
      "outputs": [],
      "source": [
        "def find_smallest(numbers):\n",
        "    # Your code goes here.\n",
        "    small=numbers[0]\n",
        "    for i in numbers:\n",
        "        if small>= i:\n",
        "            small=i\n",
        "    return small"
      ]
    },
    {
      "cell_type": "code",
      "source": [
        "numbers = [7, 17, 1, 19, 5]\n",
        "result = find_smallest(numbers)\n",
        "print(result)"
      ],
      "metadata": {
        "colab": {
          "base_uri": "https://localhost:8080/"
        },
        "id": "836NR4frSAPe",
        "outputId": "847d73b6-1579-4df1-c796-f54635c42e38"
      },
      "execution_count": 3,
      "outputs": [
        {
          "output_type": "stream",
          "name": "stdout",
          "text": [
            "1\n"
          ]
        }
      ]
    }
  ]
}