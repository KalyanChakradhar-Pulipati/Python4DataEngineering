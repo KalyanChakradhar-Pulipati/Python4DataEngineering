{
  "nbformat": 4,
  "nbformat_minor": 0,
  "metadata": {
    "colab": {
      "provenance": [],
      "authorship_tag": "ABX9TyP/+qeKANhhmO2lpzmIKrme",
      "include_colab_link": true
    },
    "kernelspec": {
      "name": "python3",
      "display_name": "Python 3"
    },
    "language_info": {
      "name": "python"
    }
  },
  "cells": [
    {
      "cell_type": "markdown",
      "metadata": {
        "id": "view-in-github",
        "colab_type": "text"
      },
      "source": [
        "<a href=\"https://colab.research.google.com/github/KalyanChakradhar-Pulipati/Python4DataEngineering/blob/main/Strings.ipynb\" target=\"_parent\"><img src=\"https://colab.research.google.com/assets/colab-badge.svg\" alt=\"Open In Colab\"/></a>"
      ]
    },
    {
      "cell_type": "code",
      "execution_count": 7,
      "metadata": {
        "colab": {
          "base_uri": "https://localhost:8080/"
        },
        "id": "88mMBpgugc2t",
        "outputId": "449d65cc-c71c-43d4-ae8d-91071bb3a54f"
      },
      "outputs": [
        {
          "output_type": "stream",
          "name": "stdout",
          "text": [
            "Hello Data engineering!!\n"
          ]
        }
      ],
      "source": [
        "greeting='Hello Data engineering!!'\n",
        "print(greeting)"
      ]
    },
    {
      "cell_type": "code",
      "source": [
        "name ='Kalyan'\n",
        "message=greeting + name\n",
        "print(message)"
      ],
      "metadata": {
        "colab": {
          "base_uri": "https://localhost:8080/"
        },
        "id": "Bg4kh7x_m-hG",
        "outputId": "02118b4e-cd33-490d-bc42-29d9ec1a4f58"
      },
      "execution_count": 8,
      "outputs": [
        {
          "output_type": "stream",
          "name": "stdout",
          "text": [
            "Hello Data engineering!!Kalyan\n"
          ]
        }
      ]
    },
    {
      "cell_type": "code",
      "source": [
        "new_string=greeting.replace('Hello','Hi')\n",
        "print(new_string)"
      ],
      "metadata": {
        "colab": {
          "base_uri": "https://localhost:8080/"
        },
        "id": "DmgfKeqJnRcp",
        "outputId": "c21044be-195d-40a5-c0d5-2365281fb751"
      },
      "execution_count": 9,
      "outputs": [
        {
          "output_type": "stream",
          "name": "stdout",
          "text": [
            "Hi Data engineering!!\n"
          ]
        }
      ]
    },
    {
      "cell_type": "code",
      "source": [
        "sentance='    Hello World    '\n",
        "print(sentance.strip())"
      ],
      "metadata": {
        "colab": {
          "base_uri": "https://localhost:8080/"
        },
        "id": "a3HtBL9Cniq5",
        "outputId": "9e467344-08fb-439c-d51b-1d7299e4ae15"
      },
      "execution_count": 10,
      "outputs": [
        {
          "output_type": "stream",
          "name": "stdout",
          "text": [
            "Hello World\n"
          ]
        }
      ]
    },
    {
      "cell_type": "code",
      "source": [
        "index=greeting.find('Data')\n",
        "print(index)"
      ],
      "metadata": {
        "colab": {
          "base_uri": "https://localhost:8080/"
        },
        "id": "F6RxJrH_oA6N",
        "outputId": "ab335c13-717c-40c1-bdd8-9e2c42ae466f"
      },
      "execution_count": 11,
      "outputs": [
        {
          "output_type": "stream",
          "name": "stdout",
          "text": [
            "6\n"
          ]
        }
      ]
    },
    {
      "cell_type": "code",
      "source": [
        "template='hello {}'\n",
        "print(template.format(name))"
      ],
      "metadata": {
        "colab": {
          "base_uri": "https://localhost:8080/"
        },
        "id": "M29Y8H4hoVlF",
        "outputId": "dd2c8047-333a-44de-daa9-bca0650c6bed"
      },
      "execution_count": 12,
      "outputs": [
        {
          "output_type": "stream",
          "name": "stdout",
          "text": [
            "hello Kalyan\n"
          ]
        }
      ]
    },
    {
      "cell_type": "code",
      "source": [
        "print(greeting.upper())"
      ],
      "metadata": {
        "colab": {
          "base_uri": "https://localhost:8080/"
        },
        "id": "5h_LKvEEopVr",
        "outputId": "d4e3af11-f170-4678-e914-67501181378f"
      },
      "execution_count": 14,
      "outputs": [
        {
          "output_type": "stream",
          "name": "stdout",
          "text": [
            "HELLO DATA ENGINEERING!!\n"
          ]
        }
      ]
    },
    {
      "cell_type": "code",
      "source": [
        "print(greeting.lower())"
      ],
      "metadata": {
        "colab": {
          "base_uri": "https://localhost:8080/"
        },
        "id": "9YMm0sXXoxxC",
        "outputId": "4f8c504c-db17-4cd6-d6fc-5a0eb4237449"
      },
      "execution_count": 16,
      "outputs": [
        {
          "output_type": "stream",
          "name": "stdout",
          "text": [
            "hello data engineering!!\n"
          ]
        }
      ]
    },
    {
      "cell_type": "code",
      "source": [
        "words=greeting.split(' ')\n",
        "print(words)"
      ],
      "metadata": {
        "colab": {
          "base_uri": "https://localhost:8080/"
        },
        "id": "i5MdToijo58R",
        "outputId": "67fe5f9c-826e-4655-cb20-cd948947fcaf"
      },
      "execution_count": 17,
      "outputs": [
        {
          "output_type": "stream",
          "name": "stdout",
          "text": [
            "['Hello', 'Data', 'engineering!!']\n"
          ]
        }
      ]
    }
  ]
}