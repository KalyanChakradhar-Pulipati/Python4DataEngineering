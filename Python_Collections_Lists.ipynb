{
  "nbformat": 4,
  "nbformat_minor": 0,
  "metadata": {
    "colab": {
      "provenance": [],
      "include_colab_link": true
    },
    "kernelspec": {
      "name": "python3",
      "display_name": "Python 3"
    },
    "language_info": {
      "name": "python"
    }
  },
  "cells": [
    {
      "cell_type": "markdown",
      "metadata": {
        "id": "view-in-github",
        "colab_type": "text"
      },
      "source": [
        "<a href=\"https://colab.research.google.com/github/KalyanChakradhar-Pulipati/Python4DataEngineering/blob/main/Python_Collections_Lists.ipynb\" target=\"_parent\"><img src=\"https://colab.research.google.com/assets/colab-badge.svg\" alt=\"Open In Colab\"/></a>"
      ]
    },
    {
      "cell_type": "code",
      "execution_count": 2,
      "metadata": {
        "colab": {
          "base_uri": "https://localhost:8080/"
        },
        "id": "EJLzrDzm7POC",
        "outputId": "73d25455-f1d7-4c1b-91d5-85c9a54b3696"
      },
      "outputs": [
        {
          "output_type": "stream",
          "name": "stdout",
          "text": [
            "['development', 'testing', 'monitoring']\n"
          ]
        }
      ],
      "source": [
        "tasks = ['development', 'testing', 'monitoring']\n",
        "print(tasks)"
      ]
    },
    {
      "cell_type": "code",
      "source": [
        "print(tasks[1])"
      ],
      "metadata": {
        "colab": {
          "base_uri": "https://localhost:8080/"
        },
        "id": "BtGLQb8C7cED",
        "outputId": "1159aa89-e6bd-4a67-f141-31b7998cb929"
      },
      "execution_count": 3,
      "outputs": [
        {
          "output_type": "stream",
          "name": "stdout",
          "text": [
            "testing\n"
          ]
        }
      ]
    },
    {
      "cell_type": "code",
      "source": [
        "tasks[1] = 'New_testing'\n",
        "print(tasks)"
      ],
      "metadata": {
        "colab": {
          "base_uri": "https://localhost:8080/"
        },
        "id": "Z6VzPogt7jzX",
        "outputId": "9f4ffba3-50c0-4057-a648-77fc6495ca62"
      },
      "execution_count": 4,
      "outputs": [
        {
          "output_type": "stream",
          "name": "stdout",
          "text": [
            "['development', 'New_testing', 'monitoring']\n"
          ]
        }
      ]
    },
    {
      "cell_type": "code",
      "source": [
        "tasks.append('Production deployment')\n",
        "print(tasks)"
      ],
      "metadata": {
        "colab": {
          "base_uri": "https://localhost:8080/"
        },
        "id": "c1ZCu5n87x_m",
        "outputId": "1f244c09-4b4c-4ed8-fa0c-74e33fa9aed6"
      },
      "execution_count": 5,
      "outputs": [
        {
          "output_type": "stream",
          "name": "stdout",
          "text": [
            "['development', 'New_testing', 'monitoring', 'Production deployment']\n"
          ]
        }
      ]
    },
    {
      "cell_type": "code",
      "source": [
        "tasks.insert(1,'Unit testing')\n",
        "print(tasks)"
      ],
      "metadata": {
        "colab": {
          "base_uri": "https://localhost:8080/"
        },
        "id": "BWeQ_vbf77z1",
        "outputId": "e6e62dc6-af48-4059-f51d-59c506011924"
      },
      "execution_count": 6,
      "outputs": [
        {
          "output_type": "stream",
          "name": "stdout",
          "text": [
            "['development', 'Unit testing', 'New_testing', 'monitoring', 'Production deployment']\n"
          ]
        }
      ]
    },
    {
      "cell_type": "code",
      "source": [
        "tasks.remove('Unit testing')\n",
        "print(tasks)"
      ],
      "metadata": {
        "colab": {
          "base_uri": "https://localhost:8080/"
        },
        "id": "M55VAbZb8JAR",
        "outputId": "1914503f-3bd4-480b-fbf9-445e49d94956"
      },
      "execution_count": 7,
      "outputs": [
        {
          "output_type": "stream",
          "name": "stdout",
          "text": [
            "['development', 'New_testing', 'monitoring', 'Production deployment']\n"
          ]
        }
      ]
    },
    {
      "cell_type": "code",
      "source": [
        "tasks.pop(1)\n",
        "print(tasks)"
      ],
      "metadata": {
        "colab": {
          "base_uri": "https://localhost:8080/"
        },
        "id": "wpZOdAmz8QNX",
        "outputId": "7ec98bd8-b5c1-4914-9c06-d3ba60931475"
      },
      "execution_count": 8,
      "outputs": [
        {
          "output_type": "stream",
          "name": "stdout",
          "text": [
            "['development', 'monitoring', 'Production deployment']\n"
          ]
        }
      ]
    },
    {
      "cell_type": "code",
      "source": [
        "for x in tasks:\n",
        "  print(x)"
      ],
      "metadata": {
        "id": "p5RFCOEw8V8S",
        "outputId": "da108fa5-c01a-40b5-f368-602e690090c2",
        "colab": {
          "base_uri": "https://localhost:8080/"
        }
      },
      "execution_count": 9,
      "outputs": [
        {
          "output_type": "stream",
          "name": "stdout",
          "text": [
            "development\n",
            "monitoring\n",
            "Production deployment\n"
          ]
        }
      ]
    }
  ]
}