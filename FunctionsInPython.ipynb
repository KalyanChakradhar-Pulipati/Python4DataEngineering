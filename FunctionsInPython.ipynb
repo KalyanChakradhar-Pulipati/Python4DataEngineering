{
  "nbformat": 4,
  "nbformat_minor": 0,
  "metadata": {
    "colab": {
      "provenance": [],
      "authorship_tag": "ABX9TyPqwtQi+zY/PiA95WKJ+l1c",
      "include_colab_link": true
    },
    "kernelspec": {
      "name": "python3",
      "display_name": "Python 3"
    },
    "language_info": {
      "name": "python"
    }
  },
  "cells": [
    {
      "cell_type": "markdown",
      "metadata": {
        "id": "view-in-github",
        "colab_type": "text"
      },
      "source": [
        "<a href=\"https://colab.research.google.com/github/KalyanChakradhar-Pulipati/Python4DataEngineering/blob/main/FunctionsInPython.ipynb\" target=\"_parent\"><img src=\"https://colab.research.google.com/assets/colab-badge.svg\" alt=\"Open In Colab\"/></a>"
      ]
    },
    {
      "cell_type": "code",
      "execution_count": 1,
      "metadata": {
        "id": "mGKyAB8wrbyx"
      },
      "outputs": [],
      "source": [
        "def greet():\n",
        "  print('Hello Data Engineering')"
      ]
    },
    {
      "cell_type": "code",
      "source": [
        "greet()"
      ],
      "metadata": {
        "colab": {
          "base_uri": "https://localhost:8080/"
        },
        "id": "SpYIM_u1sMuh",
        "outputId": "e0fef391-6858-4a1b-ef6b-6d9f952f01a2"
      },
      "execution_count": 2,
      "outputs": [
        {
          "output_type": "stream",
          "name": "stdout",
          "text": [
            "Hello Data Engineering\n"
          ]
        }
      ]
    },
    {
      "cell_type": "code",
      "source": [
        "def greet(name):\n",
        "  print(f'Hello {name}')"
      ],
      "metadata": {
        "id": "FCZUt7rtsdA2"
      },
      "execution_count": 3,
      "outputs": []
    },
    {
      "cell_type": "code",
      "source": [
        "greet('Kalyan')"
      ],
      "metadata": {
        "colab": {
          "base_uri": "https://localhost:8080/"
        },
        "id": "ZvzecmKpsr1l",
        "outputId": "3126117f-a644-469b-e8db-6f44d50c756e"
      },
      "execution_count": 4,
      "outputs": [
        {
          "output_type": "stream",
          "name": "stdout",
          "text": [
            "Hello Kalyan\n"
          ]
        }
      ]
    },
    {
      "cell_type": "code",
      "source": [
        "def add_numer(num1,num2):\n",
        "  return num1+num2"
      ],
      "metadata": {
        "id": "52OGb3hvtSn6"
      },
      "execution_count": 5,
      "outputs": []
    },
    {
      "cell_type": "code",
      "source": [
        "add_numer(10,20)"
      ],
      "metadata": {
        "colab": {
          "base_uri": "https://localhost:8080/"
        },
        "id": "YY-ym0NetcuT",
        "outputId": "87a228f3-d171-4126-f4ce-b2f6f62934be"
      },
      "execution_count": 6,
      "outputs": [
        {
          "output_type": "execute_result",
          "data": {
            "text/plain": [
              "30"
            ]
          },
          "metadata": {},
          "execution_count": 6
        }
      ]
    }
  ]
}