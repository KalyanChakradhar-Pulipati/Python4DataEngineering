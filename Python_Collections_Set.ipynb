{
  "nbformat": 4,
  "nbformat_minor": 0,
  "metadata": {
    "colab": {
      "provenance": [],
      "include_colab_link": true
    },
    "kernelspec": {
      "name": "python3",
      "display_name": "Python 3"
    },
    "language_info": {
      "name": "python"
    }
  },
  "cells": [
    {
      "cell_type": "markdown",
      "metadata": {
        "id": "view-in-github",
        "colab_type": "text"
      },
      "source": [
        "<a href=\"https://colab.research.google.com/github/KalyanChakradhar-Pulipati/Python4DataEngineering/blob/main/Python_Collections_Set.ipynb\" target=\"_parent\"><img src=\"https://colab.research.google.com/assets/colab-badge.svg\" alt=\"Open In Colab\"/></a>"
      ]
    },
    {
      "cell_type": "code",
      "execution_count": 1,
      "metadata": {
        "colab": {
          "base_uri": "https://localhost:8080/"
        },
        "id": "F4b3aLzn8-3e",
        "outputId": "cea335c8-7f6f-4f22-a804-c0a4e1595986"
      },
      "outputs": [
        {
          "output_type": "stream",
          "name": "stdout",
          "text": [
            "{'development', 'monitoring', 'testing'}\n"
          ]
        }
      ],
      "source": [
        "tasks = {'development', 'testing', 'monitoring'}\n",
        "print(tasks)"
      ]
    },
    {
      "cell_type": "code",
      "source": [
        "tasks = {'development', 'testing', 'monitoring', 'testing'}\n",
        "print(tasks)"
      ],
      "metadata": {
        "colab": {
          "base_uri": "https://localhost:8080/"
        },
        "id": "awmwX3HO9tVu",
        "outputId": "0f188830-b8d0-4c27-d279-ae88d811d385"
      },
      "execution_count": null,
      "outputs": [
        {
          "output_type": "stream",
          "name": "stdout",
          "text": [
            "{'testing', 'monitoring', 'development'}\n"
          ]
        }
      ]
    },
    {
      "cell_type": "code",
      "source": [
        "tasks.add('prod deployment')\n",
        "print(tasks)"
      ],
      "metadata": {
        "colab": {
          "base_uri": "https://localhost:8080/"
        },
        "id": "v1WVk7FQ95ET",
        "outputId": "e0722d14-6ce2-456c-96b8-28e4934d3236"
      },
      "execution_count": null,
      "outputs": [
        {
          "output_type": "stream",
          "name": "stdout",
          "text": [
            "{'testing', 'monitoring', 'prod deployment', 'development'}\n"
          ]
        }
      ]
    },
    {
      "cell_type": "code",
      "source": [
        "new_task = {'unit testing', 'SIT testing'}\n",
        "tasks.update(new_task)\n",
        "print(tasks)"
      ],
      "metadata": {
        "colab": {
          "base_uri": "https://localhost:8080/"
        },
        "id": "UuBf-0qg-BlJ",
        "outputId": "5e4b8881-db86-4cb7-801a-461e103a1849"
      },
      "execution_count": null,
      "outputs": [
        {
          "output_type": "stream",
          "name": "stdout",
          "text": [
            "{'unit testing', 'monitoring', 'development', 'SIT testing', 'prod deployment', 'testing'}\n"
          ]
        }
      ]
    },
    {
      "cell_type": "code",
      "source": [
        "tasks.remove('testing')\n",
        "print(tasks)"
      ],
      "metadata": {
        "colab": {
          "base_uri": "https://localhost:8080/"
        },
        "id": "0r9lMjpT-Wmo",
        "outputId": "a295d1e5-8c9a-43da-f0c1-d6478455fb56"
      },
      "execution_count": null,
      "outputs": [
        {
          "output_type": "stream",
          "name": "stdout",
          "text": [
            "{'unit testing', 'monitoring', 'development', 'SIT testing', 'prod deployment'}\n"
          ]
        }
      ]
    },
    {
      "cell_type": "code",
      "source": [
        "new_task.clear()\n",
        "print(new_task)"
      ],
      "metadata": {
        "colab": {
          "base_uri": "https://localhost:8080/"
        },
        "id": "Ar53g_3Y-gKS",
        "outputId": "c30907b6-7615-4bec-f9dc-ac2f8c88b82b"
      },
      "execution_count": null,
      "outputs": [
        {
          "output_type": "stream",
          "name": "stdout",
          "text": [
            "set()\n"
          ]
        }
      ]
    }
  ]
}