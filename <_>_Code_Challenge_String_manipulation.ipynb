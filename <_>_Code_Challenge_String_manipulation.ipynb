{
  "nbformat": 4,
  "nbformat_minor": 0,
  "metadata": {
    "colab": {
      "provenance": [],
      "authorship_tag": "ABX9TyMtfzcWa+H8ntpcq4gPYSmU",
      "include_colab_link": true
    },
    "kernelspec": {
      "name": "python3",
      "display_name": "Python 3"
    },
    "language_info": {
      "name": "python"
    }
  },
  "cells": [
    {
      "cell_type": "markdown",
      "metadata": {
        "id": "view-in-github",
        "colab_type": "text"
      },
      "source": [
        "<a href=\"https://colab.research.google.com/github/KalyanChakradhar-Pulipati/Python4DataEngineering/blob/main/%3C_%3E_Code_Challenge_String_manipulation.ipynb\" target=\"_parent\"><img src=\"https://colab.research.google.com/assets/colab-badge.svg\" alt=\"Open In Colab\"/></a>"
      ]
    },
    {
      "cell_type": "markdown",
      "source": [
        "# Find the reverse of the String\n",
        "You are given a string\n",
        "**Your task** : Return the reverse of the string\n",
        "\n",
        "**Parameters**: text : A string\n",
        "\n",
        "**Result**\n",
        "text : A reverse string\n",
        "\n",
        "**Constraints**\n",
        "The text always contains at least one length string\n",
        "\n",
        "**Example 1**:\n",
        "Input: hello\n",
        "Result: olleh\n",
        "\n",
        "**Example 2**:\n",
        "Input: [PYTHON]\n",
        "Result: NOHTYP\n",
        "\n",
        "**Want a hint**?\n",
        "\n",
        "Learn about Python lists in this course on LinkedIn Learning."
      ],
      "metadata": {
        "id": "ez8_kKpH3t2a"
      }
    },
    {
      "cell_type": "code",
      "source": [
        "def reverse_string(text):\n",
        "  return text[::-1]"
      ],
      "metadata": {
        "id": "I21bF2YG51JS"
      },
      "execution_count": 1,
      "outputs": []
    },
    {
      "cell_type": "code",
      "execution_count": 2,
      "metadata": {
        "colab": {
          "base_uri": "https://localhost:8080/"
        },
        "id": "79nXfb2c1shP",
        "outputId": "435923d9-72b4-4f94-d70b-3a87060468a7"
      },
      "outputs": [
        {
          "output_type": "stream",
          "name": "stdout",
          "text": [
            "olleh\n"
          ]
        }
      ],
      "source": [
        "print(reverse_string('hello'))\n"
      ]
    },
    {
      "cell_type": "code",
      "source": [
        "def reverse_string_array(text):\n",
        "  rev_str=''\n",
        "  for i in text[::-1]:\n",
        "    if i == '[':\n",
        "      #rev_str_ary= i[::1]\n",
        "      print('if')\n",
        "      #print(i)\n",
        "      continue\n",
        "    elif i == ']':\n",
        "      #rev_str_ary= i[::1]\n",
        "      print('elsif')\n",
        "      #print(i)\n",
        "      continue\n",
        "    else:\n",
        "      #return i\n",
        "      #print('else')\n",
        "      rev_str_ary= i[::1]\n",
        "      print(rev_str_ary)\n",
        "      rev_str=rev_str+rev_str_ary\n",
        "      print(rev_str)\n",
        "      #return rev_str_ary\n",
        "      #rev_str_ary= i[::1]\n",
        "      #print(rev_str_ary)\n",
        "    return rev_str\n",
        "  #return rev_str_ary #text[::-1].trim('[')\n",
        "print(reverse_string_array('[PYTHON]'))\n"
      ],
      "metadata": {
        "colab": {
          "base_uri": "https://localhost:8080/"
        },
        "id": "A7osNlUx6iMa",
        "outputId": "934b74bd-3d3e-49ae-db37-58dabc120a2b"
      },
      "execution_count": 14,
      "outputs": [
        {
          "output_type": "stream",
          "name": "stdout",
          "text": [
            "elsif\n",
            "N\n",
            "N\n",
            "N\n"
          ]
        }
      ]
    },
    {
      "cell_type": "code",
      "source": [
        "reverse_string=string[::-1]\n",
        "print(reverse_string.lower().capitalize())\n",
        "\n",
        "print(reverse_string(string))"
      ],
      "metadata": {
        "colab": {
          "base_uri": "https://localhost:8080/"
        },
        "id": "tptO0Afg11Qw",
        "outputId": "b1f9f3a9-e1ac-4d23-c669-55f5a0232c94"
      },
      "execution_count": null,
      "outputs": [
        {
          "output_type": "stream",
          "name": "stdout",
          "text": [
            "naylaK\n"
          ]
        }
      ]
    },
    {
      "cell_type": "code",
      "source": [
        "string=\"Kalyan\""
      ],
      "metadata": {
        "colab": {
          "base_uri": "https://localhost:8080/"
        },
        "id": "zR0WDBXK2bMQ",
        "outputId": "eb58fe04-bd01-4d1c-825b-a4bd6c40e2c6"
      },
      "execution_count": null,
      "outputs": [
        {
          "output_type": "stream",
          "name": "stdout",
          "text": [
            "olleh\n"
          ]
        }
      ]
    },
    {
      "cell_type": "code",
      "source": [
        "#input=[PYTHON]\n",
        "\n"
      ],
      "metadata": {
        "id": "fLuhnVO83ZAJ"
      },
      "execution_count": null,
      "outputs": []
    }
  ]
}